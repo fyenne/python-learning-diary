{
 "cells": [
  {
   "cell_type": "code",
   "execution_count": 85,
   "metadata": {
    "ExecuteTime": {
     "end_time": "2020-05-28T18:17:50.120409Z",
     "start_time": "2020-05-28T18:17:50.114435Z"
    }
   },
   "outputs": [
    {
     "data": {
      "text/plain": [
       "['2017年6月发电.xls',\n",
       " '2017年12月发电.xls',\n",
       " '.DS_Store',\n",
       " '2017年10月发电.xls',\n",
       " '2017年4月发电.xls',\n",
       " '2017年8月发电.xls',\n",
       " '2016全省发电情况.xls',\n",
       " '2017年7月发电.xls',\n",
       " '2017年5月发电.xls',\n",
       " '2017年9月发电.xls',\n",
       " '2017年11月发电.xls',\n",
       " '2017年1月发电.xls',\n",
       " '2017年3月发电.xls']"
      ]
     },
     "execution_count": 85,
     "metadata": {},
     "output_type": "execute_result"
    }
   ],
   "source": [
    "import os\n",
    "import pandas as pd\n",
    "\n",
    "path = '/Users/fyenne/Desktop/booooks/电力/16_17/'\n",
    "files = os.listdir(path)\n",
    "files"
   ]
  },
  {
   "cell_type": "code",
   "execution_count": 86,
   "metadata": {
    "ExecuteTime": {
     "end_time": "2020-05-28T18:17:51.872514Z",
     "start_time": "2020-05-28T18:17:51.865344Z"
    }
   },
   "outputs": [
    {
     "data": {
      "text/plain": [
       "['2017年6月发电.xls',\n",
       " '2017年12月发电.xls',\n",
       " '2017年10月发电.xls',\n",
       " '2017年4月发电.xls',\n",
       " '2017年8月发电.xls',\n",
       " '2016全省发电情况.xls',\n",
       " '2017年7月发电.xls',\n",
       " '2017年5月发电.xls',\n",
       " '2017年9月发电.xls',\n",
       " '2017年11月发电.xls',\n",
       " '2017年1月发电.xls',\n",
       " '2017年3月发电.xls']"
      ]
     },
     "execution_count": 86,
     "metadata": {},
     "output_type": "execute_result"
    }
   ],
   "source": [
    "files_xls = [f for f in files if f[-3:] == 'xls']\n",
    "files_xls"
   ]
  },
  {
   "cell_type": "code",
   "execution_count": 91,
   "metadata": {
    "ExecuteTime": {
     "end_time": "2020-05-28T18:18:46.291187Z",
     "start_time": "2020-05-28T18:18:46.240602Z"
    }
   },
   "outputs": [],
   "source": [
    "df = pd.DataFrame()\n",
    "data = pd.read_excel('/Users/fyenne/Desktop/booooks/电力/16_17/2017年6月发电.xls', 'Sheet1')\n"
   ]
  },
  {
   "cell_type": "code",
   "execution_count": null,
   "metadata": {},
   "outputs": [],
   "source": [
    "for f in files_xls:\n",
    "    data = pd.read_excel(f, 'Sheet1')\n",
    "    df = df.append(data)\n",
    "\n",
    "df"
   ]
  },
  {
   "cell_type": "code",
   "execution_count": null,
   "metadata": {},
   "outputs": [],
   "source": []
  },
  {
   "cell_type": "code",
   "execution_count": null,
   "metadata": {},
   "outputs": [],
   "source": []
  },
  {
   "cell_type": "code",
   "execution_count": null,
   "metadata": {},
   "outputs": [],
   "source": []
  }
 ],
 "metadata": {
  "kernelspec": {
   "display_name": "Python 3",
   "language": "python",
   "name": "python3"
  },
  "language_info": {
   "codemirror_mode": {
    "name": "ipython",
    "version": 3
   },
   "file_extension": ".py",
   "mimetype": "text/x-python",
   "name": "python",
   "nbconvert_exporter": "python",
   "pygments_lexer": "ipython3",
   "version": "3.7.7"
  },
  "toc": {
   "base_numbering": 1,
   "nav_menu": {},
   "number_sections": true,
   "sideBar": true,
   "skip_h1_title": false,
   "title_cell": "Table of Contents",
   "title_sidebar": "Contents",
   "toc_cell": false,
   "toc_position": {},
   "toc_section_display": true,
   "toc_window_display": false
  },
  "varInspector": {
   "cols": {
    "lenName": 16,
    "lenType": 16,
    "lenVar": 40
   },
   "kernels_config": {
    "python": {
     "delete_cmd_postfix": "",
     "delete_cmd_prefix": "del ",
     "library": "var_list.py",
     "varRefreshCmd": "print(var_dic_list())"
    },
    "r": {
     "delete_cmd_postfix": ") ",
     "delete_cmd_prefix": "rm(",
     "library": "var_list.r",
     "varRefreshCmd": "cat(var_dic_list()) "
    }
   },
   "position": {
    "height": "198px",
    "left": "866px",
    "right": "20px",
    "top": "116px",
    "width": "502px"
   },
   "types_to_exclude": [
    "module",
    "function",
    "builtin_function_or_method",
    "instance",
    "_Feature"
   ],
   "window_display": true
  }
 },
 "nbformat": 4,
 "nbformat_minor": 4
}
