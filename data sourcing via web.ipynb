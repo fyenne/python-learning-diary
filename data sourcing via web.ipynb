{
 "cells": [
  {
   "cell_type": "code",
   "execution_count": 2,
   "metadata": {
    "ExecuteTime": {
     "end_time": "2020-05-27T01:51:28.142391Z",
     "start_time": "2020-05-27T01:51:28.138812Z"
    }
   },
   "outputs": [],
   "source": [
    "from bs4 import BeautifulSoup\n",
    "\n",
    "import urllib.request\n",
    "\n",
    "from IPython.display import HTML\n",
    "\n",
    "import re"
   ]
  },
  {
   "cell_type": "code",
   "execution_count": 5,
   "metadata": {
    "ExecuteTime": {
     "end_time": "2020-05-27T01:52:48.792156Z",
     "start_time": "2020-05-27T01:52:48.701087Z"
    }
   },
   "outputs": [
    {
     "data": {
      "text/plain": [
       "bs4.BeautifulSoup"
      ]
     },
     "execution_count": 5,
     "metadata": {},
     "output_type": "execute_result"
    }
   ],
   "source": [
    "r = urllib.request.urlopen('https://analytics.usa.gov/').read()\n",
    "\n",
    "soup = BeautifulSoup(r, \"lxml\")\n",
    "type(soup)"
   ]
  },
  {
   "cell_type": "code",
   "execution_count": 25,
   "metadata": {
    "ExecuteTime": {
     "end_time": "2020-05-27T02:17:16.953902Z",
     "start_time": "2020-05-27T02:17:16.943401Z"
    }
   },
   "outputs": [
    {
     "name": "stdout",
     "output_type": "stream",
     "text": [
      "<!DOCTYPE html>\n",
      "<html lang=\"en\">\n",
      " <!-- Initalize title and data source variables -->\n",
      " <head>\n",
      "  <!--\n",
      "\n",
      "    Hi! Welcome to our source code.\n",
      "\n",
      "    This dashboard uses data from the Digital Analytics Program, a US\n",
      "    government team inside the General Services Administration.\n",
      "\n",
      "\n",
      "    For a detailed tech breakdown of how 18F and friends built this site:\n",
      "\n",
      "    https://18f.gsa.gov/2015/03/19/how-we-built-analytics-usa-gov/\n",
      "\n",
      "\n",
      "    This is a fully open source project, and your contributions are welcome.\n",
      "\n",
      "    Frontend static site: https://github.com/18F/analy\n",
      "b'<!DOCTYPE html>\\n<html lang=\"en\">\\n  <!-- Initalize title and data source variables -->\\n  \\n  <head>\\n  <!--\\n\\n    Hi! Welcome to our source code.\\n\\n    This dashboard uses data from the Digital Analytics Program, a US\\n    government team inside the General Services Administration.\\n\\n\\n    For a detailed tech breakdown of how 18F and friends built this site:\\n\\n    https://18f.gsa.gov/2015/03/19/how-we-built-analytics-usa-gov/\\n\\n\\n    This is a fully open source project, and your contributions are welcome.\\n\\n    Frontend static site: https://github.com/18F/analytics.usa.gov\\n    Backend data reporting: https://github.com/18F/analytics-reporter\\n\\n    -->\\n\\n    <meta charset=\"utf-8\">\\n    <meta http-equiv=\"X-UA-Compatible\" content=\"IE=Edge\">\\n    <meta name=\"google-site-verification\" content=\"NjbZn6hQe7OwV-nTsa6nLmtrOUcSGPRyFjxm5zkmCcg\" />\\n\\n    <link rel=\"stylesheet\" href=\"/css/vendor/css/uswds.v0.9.6.css\">\\n    <link rel=\"stylesheet\" href=\"/css/public_analytics.css\">\\n    <link rel=\"icon\" type=\"image/x-icon\" href=\"/images/analytics-favicon.ico\">\\n\\n    <meta name=\"twitter:site\" content=\"@usgsa\">\\n    <meta name=\"twitter:creator\" content=\"@usgsa\">\\n    <meta property=\"og:type\" content=\"website\" />\\n\\n    <meta property=\"og:url\" content=\"https://analytics.usa.gov\" />\\n    <link rel=\"canonical\" href=\"https://analytics.usa.gov\" />\\n\\n    <title>analytics.usa.gov | The US government\\'s web traffic.</title>\\n    <meta property=\"og:title\" content=\"analytics.usa.gov | The US government\\'s web traffic.\" />\\n    <meta property=\"og:site_name\" content=\"analytics.usa.gov | The US government\\'s web traffic.\" />\\n\\n    <meta name=\"description\" content=\"Official data on web traffic to hundreds of US federal government websites. Published by the Digital Analytics Program.\">\\n    <meta property=\"og:description\" content=\"Official data on web traffic to hundreds of US federal government websites. Published by the Digital Analytics Program.\" />\\n\\n    <meta name=\"twitter:card\" content=\"summary_large_image\">\\n    <meta property=\"og:image\" content=\"https://analytics.usa.gov/images/share-image.png\" />\\n\\n    <!-- Google Tag Manager -->\\n    <script>(function(w,d,s,l,i){w[l]=w[l]||[];w[l].push({\\'gtm.start\\':\\n    new Date().getTime(),event:\\'gtm.js\\'});var f=d.getElementsByTagName(s)[0],\\n    j=d.createElement(s),dl=l!=\\'dataLayer\\'?\\'&l=\\'+l:\\'\\';j.async=true;j.src=\\n    \\'https://www.googletagmanager.com/gtm.js?id=\\'+i+dl;f.parentNode.insertBefore(j,f);\\n    })(window,document,\\'script\\',\\'dataLayer\\',\\'GTM-MQSGZS\\');</script>\\n    <!-- End Google Tag Manager -->\\n\\n    <script>\\n    (function(i,s,o,g,r,a,m){i[\\'GoogleAnalyticsObject\\']=r;i[r]=i[r]||function(){\\n  (i[r].q=i[r].q||[]).push(arguments)},i[r].l=1*new Date();a=s.createElement(o),\\n  m=s.getElementsByTagName(o)[0];a.async=1;a.src=g;m.parentNode.insertBefore(a,m)\\n  })(window,document,\\'script\\',\\'https://www.google-analytics.com/analytics.js\\',\\'ga\\');\\n\\n    ga(\\'create\\', \\'UA-48605964-36\\', \\'auto\\');\\n    ga(\\'set\\', \\'anonymizeIp\\', true);\\n    ga(\\'set\\', \\'forceSSL\\', true);\\n    ga(\\'send\\', \\'pageview\\');\\n\\n  </script>\\n\\n    <!--[if lte IE 9]>\\n    <script src=\"/js/vendor/aight.v2.min.js\"></script>\\n    <![endif]-->\\n\\n    <meta name=\"viewport\" content=\"width=device-width, initial-scale=1.0\">\\n\\n    <link href=\"/css/google-fonts.css\" rel=\"stylesheet\" />\\n</head>\\n\\n\\n  <body>\\n    <!-- Google Tag Manager (noscript) -->\\n<noscript><iframe src=\"https://www.googletagmanager.com/ns.html?id=GTM-MQSGZS\"\\nheight=\"0\" width=\"0\" style=\"display:none;visibility:hidden\"></iframe></noscript>\\n<!-- End Google Tag Manager (noscript) -->\\n\\n    <header>\\n        <div class=\"inner clearfix\">\\n            <h1>\\n              <a href=\"/\" class=\"external-link\">\\n                <strong>analytics</strong>.usa.gov\\n              </a>\\n            </h1>\\n            <ul class=\"links\">\\n              <li><a href=\"#explanation\">About <span class=\"sm-hide\">this site</span></a></li>\\n              <li><a href=\"https://analytics.usa.gov/data/\">Data</a> | <a href=\"https://open.gsa.gov/api/dap/\" target=\"_blank\">API</a></li>\\n            </ul>\\n            \\n            \\n              \\n                <div class=\"agency-selector-wrap\">\\n                  <form>\\n                    <label for=\"agency-selector\">Select an agency</label>\\n                    <select name=\"agency-selector\" id=\"agency-selector\" title=\"Agency Selection Dropdown\">\\n                      <option value=\"/\">All Participating Websites</option>\\n                      \\n                        <option value=\"/agency-international-development/\">Agency for International Development</option>\\n                      \\n                        <option value=\"/agriculture/\">Department of Agriculture</option>\\n                      \\n                        <option value=\"/commerce/\">Department of Commerce</option>\\n                      \\n                        <option value=\"/defense/\">Department of Defense</option>\\n                      \\n                        <option value=\"/education/\">Department of Education</option>\\n                      \\n                        <option value=\"/energy/\">Department of Energy</option>\\n                      \\n                        <option value=\"/health-human-services/\">Department of Health and Human Services</option>\\n                      \\n                        <option value=\"/homeland-security/\">Department of Homeland Security</option>\\n                      \\n                        <option value=\"/housing-urban-development/\">Department of Housing and Urban Development</option>\\n                      \\n                        <option value=\"/justice/\">Department of Justice</option>\\n                      \\n                        <option value=\"/labor/\">Department of Labor</option>\\n                      \\n                        <option value=\"/state/\">Department of State</option>\\n                      \\n                        <option value=\"/transportation/\">Department of Transportation</option>\\n                      \\n                        <option value=\"/veterans-affairs/\">Department of Veterans Affairs</option>\\n                      \\n                        <option value=\"/interior/\">Department of the Interior</option>\\n                      \\n                        <option value=\"/treasury/\">Department of the Treasury</option>\\n                      \\n                        <option value=\"/environmental-protection-agency/\">Environmental Protection Agency</option>\\n                      \\n                        <option value=\"/executive-office-president/\">Executive Office of the President</option>\\n                      \\n                        <option value=\"/general-services-administration/\">General Services Administration</option>\\n                      \\n                        <option value=\"/national-aeronautics-space-administration/\">National Aeronautics and Space Administration</option>\\n                      \\n                        <option value=\"/national-archives-records-administration/\">National Archives and Records Administration</option>\\n                      \\n                        <option value=\"/national-science-foundation/\">National Science Foundation</option>\\n                      \\n                        <option value=\"/nuclear-regulatory-commission/\">Nuclear Regulatory Commission</option>\\n                      \\n                        <option value=\"/office-personnel-management/\">Office of Personnel Management</option>\\n                      \\n                        <option value=\"/postal-service/\">Postal Service</option>\\n                      \\n                        <option value=\"/small-business-administration/\">Small Business Administration</option>\\n                      \\n                        <option value=\"/social-security-administration/\">Social Security Administration</option>\\n                      \\n                    </select>\\n                  </form>\\n                </div>\\n              \\n            \\n        </div>\\n    </header>\\n    <div class=\"container\">\\n\\n      \\n\\n\\n              \\n    <!--\\n      JavaScript block hooks look for any element with both data-block and\\n      data-source attributes:\\n      <section data-block=\"users\" data-source=\"path/to/data.json\">\\n        The \"loading\", \"loaded\", and \"error\" classes are set on this element\\n        the data-source URL is loaded. Then the renderer is called on the first\\n        child of the block with the \"data\" class:\\n        <div class=\"data\">\\n        </div>\\n        Some renderers expect to be called on HTML tables, in which\\n        case you would use:\\n        <table class=\"data\">\\n        </table>\\n      </section>\\n      -->\\n      <div id=\"main_data\" class=\"width-two-thirds\">\\n        <section id=\"realtime\"\\n          data-block=\"realtime\"\\n          data-source=\"https://analytics.usa.gov/data/live/realtime.json\"\\n          data-refresh=\"15\">\\n          <h2 id=\"current_visitors\" class=\"data\">...</h2>\\n          <div class=\"chart_subtitle\">people on government websites now</div>\\n        </section>\\n\\n        <section class=\"section_headline visits_today\">\\n          <h3>Visits Today</h3>\\n          <h4>Eastern Time</h4>\\n        </section>\\n        <section id=\"time_series\"\\n          data-block=\"today\"\\n          data-source=\"https://analytics.usa.gov/data/live/today.json\"\\n          data-refresh=\"15\">\\n          <svg class=\"data time-series\">\\n          </svg>\\n        </section>\\n\\n        <section class=\"section_headline\">\\n          <h3>Visits in the Past 90 Days</h3>\\n        </section>\\n\\n        <section class=\"section_subheadline\">\\n          There were <span id=\"total_visitors\" class=\"data\">...</span> visits over the past 90 days.\\n        </section>\\n\\n        <section id=\"devices\" class=\"three_column\"\\n          data-block=\"devices\"\\n          data-source=\"https://analytics.usa.gov/data/live/devices.json\">\\n          <h4>Devices</h4>\\n          <figure id=\"chart_device_types\">\\n            <div class=\"data bar-chart\">\\n            </div>\\n          </figure>\\n\\n          <p>\\n            Based on rough network segmentation data, we estimate that <strong>less than 5%</strong> of all traffic across all agencies comes from US federal government networks.\\n          </p>\\n\\n          <p>\\n            Much more detailed data is available in <strong><a href=\"data/\">downloadable CSV and JSON</a></strong>. This includes data on combined browser and OS usage.\\n          </p>\\n        </section>\\n\\n        <section id=\"browsers\" class=\"three_column\">\\n          <h4>Browsers</h4>\\n\\n          <figure id=\"chart_browsers\"\\n            data-block=\"browsers\"\\n            data-source=\"https://analytics.usa.gov/data/live/browsers.json\">\\n            <div class=\"data bar-chart\">\\n            </div>\\n          </figure>\\n\\n          <figure id=\"chart_ie\"\\n            data-block=\"ie\"\\n            data-source=\"https://analytics.usa.gov/data/live/ie.json\"\\n            data-scale-to-parent=\"true\">\\n            <h4>Internet Explorer</h4>\\n            <div class=\"data bar-chart\">\\n            </div>\\n          </figure>\\n        </section>\\n\\n        <section id=\"operating_systems\" class=\"three_column\">\\n          <h4>Operating Systems</h4>\\n\\n          <figure id=\"chart_os\"\\n            data-block=\"os\"\\n            data-source=\"https://analytics.usa.gov/data/live/os.json\">\\n            <div class=\"data bar-chart\">\\n            </div>\\n          </figure>\\n\\n          <figure id=\"chart_windows\"\\n            data-block=\"windows\"\\n            data-source=\"https://analytics.usa.gov/data/live/windows.json\"\\n            data-scale-to-parent=\"true\">\\n            <h4>Windows</h4>\\n            <div class=\"data bar-chart\">\\n            </div>\\n          </figure>\\n        </section>\\n\\n        <!-- forces section to wrap, couldn\\'t find a better way -->\\n        <div style=\"clear: both\"></div>\\n\\n        <section class=\"section_headline\">\\n          <h3>Visitor Locations Right Now</h3>\\n        </section>\\n\\n        <section id=\"cities\" class=\"three_column\"\\n          data-block=\"cities\"\\n          data-source=\"https://analytics.usa.gov/data/live/top-cities-realtime.json\">\\n          <h4>Cities</h4>\\n          <figure id=\"chart_top-cities-90-days\">\\n            <div class=\"data bar-chart\">\\n            </div>\\n          </figure>\\n        </section>\\n\\n        <section id=\"countries\" class=\"three_column\">\\n          <h4>Countries</h4>\\n\\n          <figure id=\"chart_us\"\\n            data-block=\"countries\"\\n            data-source=\"https://analytics.usa.gov/data/live/top-countries-realtime.json\">\\n            <div class=\"data bar-chart\">\\n            </div>\\n          </figure>\\n\\n          <figure id=\"chart_countries\"\\n            data-block=\"international_visits\"\\n            data-source=\"https://analytics.usa.gov/data/live/top-countries-realtime.json\">\\n            <h4>International &amp; Territories</h4>\\n            <div class=\"data bar-chart\">\\n            </div>\\n          </figure>\\n        </section>\\n\\n      </div>\\n\\n      <div id=\"secondary_data\" class=\"width-one-third\">\\n        <section id=\"top_100_table\">\\n\\n          <!-- see: http://heydonworks.com/practical_aria_examples/ -->\\n          <h3>Top <span id=\"top_table_type\">Pages</span></h3>\\n          <ul class=\"pills\" role=\"tablist\">\\n            <li><a role=\"tab\" data-type=\"Pages\" aria-selected=\"true\" href=\"#top-pages-realtime\" class=\"site-nav\">Now</a></li>\\n            <li><a role=\"tab\" data-type=\"Domains\" href=\"#top-pages-7-days\" class=\"site-nav\">7 Days</a></li>\\n            <li><a role=\"tab\" data-type=\"Domains\" href=\"#top-pages-30-days\" class=\"site-nav\">30 Days</a></li>\\n          </ul>\\n\\n          <figure class=\"top-pages\" id=\"top-pages-realtime\" role=\"tabpanel\"\\n            data-block=\"top-pages-realtime\"\\n            data-source=\"https://analytics.usa.gov/data/live/top-pages-realtime.json\"\\n            data-refresh=\"15\">\\n            <h5><em>\\n              People on a <strong>single, specific page</strong> now. We only count pages with at least 10 people on the page.\\n              <a href=\"https://analytics.usa.gov/data/live/all-pages-realtime.csv\">Download the full dataset.</a>\\n            </em></h5>\\n            <div class=\"data bar-chart\">\\n            </div>\\n          </figure>\\n\\n          <figure class=\"top-pages\" id=\"top-pages-7-days\" role=\"tabpanel\"\\n            data-block=\"top-pages\"\\n            data-source=\"https://analytics.usa.gov/data/live/top-domains-7-days.json\">\\n            <h5><em>Visits over the last week to <strong>domains</strong>, including traffic to all pages within that domain.</em></h5>\\n            <div class=\"data bar-chart\">\\n            </div>\\n          </figure>\\n\\n          <figure class=\"top-pages\" id=\"top-pages-30-days\" role=\"tabpanel\"\\n            data-block=\"top-pages\"\\n            data-source=\"https://analytics.usa.gov/data/live/top-domains-30-days.json\">\\n            <h5><em>\\n              Visits over the last month to <strong>domains</strong>, including traffic to all pages within that domain. We only count pages with at least 1,000 visits in the last month.\\n              <a href=\"https://analytics.usa.gov/data/live/all-domains-30-days.csv\">Download the full dataset.</a>\\n            </em></h5>\\n            <div class=\"data bar-chart\">\\n            </div>\\n          </figure>\\n\\n        </section>\\n\\n        <section id=\"top_downloads_table\">\\n\\n          <h3>Top Downloads</h3>\\n          <h5><em>Total file downloads yesterday on government domains.</em></h5>\\n          <figure id=\"top-downloads\"\\n            data-block=\"top-downloads\"\\n            data-source=\"https://analytics.usa.gov/data/live/top-downloads-yesterday.json\">\\n            <div class=\"data bar-chart\">\\n            </div>\\n          </figure>\\n\\n        </section>\\n\\n\\n\\n\\n    </div>\\n    <div class=\"container\">\\n      <section id=\"explanation\" class=\"width-two-thirds\">\\n\\n          <h3>About this Site</h3>\\n          <p>\\n            This data provides a window into how people are interacting with the government online.\\n             The data comes from a unified Google Analytics account for U.S. federal government agencies known as the <a href=\"https://www.digitalgov.gov/services/dap/\" class=\"external-link\">Digital Analytics Program</a>.\\n              This program helps government agencies understand how people find, access, and use government services online. The program <a href=\"https://www.digitalgov.gov/services/dap/common-questions-about-dap-faq/#part-4\" class=\"external-link\">does not track individuals</a>,\\n               and <a href=\"https://support.google.com/analytics/answer/2763052?hl=en\" class=\"external-link\">anonymizes the IP addresses</a> of visitors.\\n          </p>\\n\\n          <p>\\n            Not every government website is represented in this data. \\n            Currently, the Digital Analytics Program collects web traffic from around <a href=\"https://analytics.usa.gov/data/live/second-level-domains.csv\" class=\"external-link\">400 executive branch government domains</a>,\\n             across <a href=\"https://analytics.usa.gov/data/live/sites.csv\" class=\"external-link\">about 5,700 total websites</a>,\\n              including every cabinet department.\\n               We continue to pursue and add more sites frequently; to add your site, <a href=\"mailto:DAP@support.digitalgov.gov\" class=\"external-link\">email the Digital Analytics Program</a>.\\n          </p>\\n\\n\\n      </section>\\n      <section class=\"width-one-third\">\\n        <h3>Download the data</h3>\\n        <p>You can <a href=\"https://analytics.usa.gov/data/\">download the data here.</a> Available in JSON and CSV format.</p>\\n        <p> Additionally, you can access data via our <a href=\"https://open.gsa.gov/api/dap/\" target=\"_blank\"> API project</a> (currently in Beta).</p>\\n        <h3>A note on sampling</h3>\\n        <p>Due to varying Google Analytics API sampling thresholds and the sheer volume of data in this project, some non-realtime reports may be subject to sampling. \\n             The data are intended to represent trends and numbers may not be precise.</p>\\n      </section>\\n</div>\\n<footer>\\n  <div class=\"footer-section-top\">\\n    <div class=\"usa-grid\">\\n          <div class=\"usa-width-one-half\">\\n            <p>Have a question or problem? \\n              <a href=\"mailto:DAP@support.digitalgov.gov\">\\n              Get in touch</a>.\\n              </p>\\n              <a class=\"usa-button usa-button-secondary-inverse\"\\n              href=\"https://github.com/GSA/analytics.usa.gov/issues\">\\n              <img src=\"/images/github-logo-white.svg\" class=\"github-icon\" alt=\"Github Icon\">\\n                  Suggest a feature or report an issue\\n            </a>\\n            </p>\\n          </div>\\n          <div class=\"usa-width-one-half\">\\n            <p><a href=\"https://github.com/GSA/analytics.usa.gov\">\\n              <img src=\"/images/github-logo.svg\" class=\"github-icon\" alt=\"Github Icon\">\\n              View our code on GitHub</a></p>\\n            <p><a href=\"https://github.com/18F/analytics-reporter\">\\n              <img src=\"/images/github-logo.svg\" class=\"github-icon\" alt=\"Github Icon\">\\n              View our code for the data on GitHub</a></p>\\n          </div>\\n    </div>\\n  </div>\\n  <div class=\"footer-section-bottom\">\\n    <div class=\"usa-grid\">\\n      <div class=\"logo-links\">\\n        <a href=\"http://www.gsa.gov/\">\\n          <img src=\"/images/gsa-logo.svg\" alt=\"GSA\">\\n        </a>\\n      </div>\\n      <p>Analytics.usa.gov is a project of GSA\\xe2\\x80\\x99s <a href=\"https://www.digitalgov.gov/services/dap/\">Digital Analytics Program</a>.</p>\\n      <p>This website is hosted on <a href=\"https://cloud.gov/\">cloud.gov</a>.</p>\\n    </div>\\n  </div>\\n</footer>\\n\\n\\n  </body>\\n\\n    <!--\\n    IE detection, used to guide console formatting in subsequent include.\\n  -->\\n  <script type=\"text/javascript\">window._ie9 = false;</script>\\n\\n  <!--[if IE 9 ]>\\n    <script type=\"text/javascript\">window._ie9 = true;</script>\\n  <![endif]-->\\n\\n  <!--\\n   IE10 JS targeting: https://stackoverflow.com/a/17099988\\n   IE11 JS targeting: https://stackoverflow.com/a/17447695\\n  -->\\n  <script type=\"text/javascript\">\\n    window._ie10 = (\"onpropertychange\" in document && !!window.matchMedia);\\n    window._ie11 = !!navigator.userAgent.match(/Trident\\\\/7.0; rv 11/);\\n    window._ie = window._ie9 || window._ie10 || window._ie11;\\n  </script>\\n\\n  <script src=\"/assets/bundle.js\"></script>\\n\\n\\n</html>\\n'\n"
     ]
    }
   ],
   "source": [
    "print(soup.prettify()[:550])"
   ]
  },
  {
   "cell_type": "code",
   "execution_count": 15,
   "metadata": {
    "ExecuteTime": {
     "end_time": "2020-05-27T01:54:43.333640Z",
     "start_time": "2020-05-27T01:54:43.329347Z"
    }
   },
   "outputs": [
    {
     "name": "stdout",
     "output_type": "stream",
     "text": [
      "/\n",
      "#explanation\n",
      "https://analytics.usa.gov/data/\n",
      "https://open.gsa.gov/api/dap/\n",
      "data/\n",
      "#top-pages-realtime\n",
      "#top-pages-7-days\n",
      "#top-pages-30-days\n",
      "https://analytics.usa.gov/data/live/all-pages-realtime.csv\n",
      "https://analytics.usa.gov/data/live/all-domains-30-days.csv\n",
      "https://www.digitalgov.gov/services/dap/\n",
      "https://www.digitalgov.gov/services/dap/common-questions-about-dap-faq/#part-4\n",
      "https://support.google.com/analytics/answer/2763052?hl=en\n",
      "https://analytics.usa.gov/data/live/second-level-domains.csv\n",
      "https://analytics.usa.gov/data/live/sites.csv\n",
      "mailto:DAP@support.digitalgov.gov\n",
      "https://analytics.usa.gov/data/\n",
      "https://open.gsa.gov/api/dap/\n",
      "mailto:DAP@support.digitalgov.gov\n",
      "https://github.com/GSA/analytics.usa.gov/issues\n",
      "https://github.com/GSA/analytics.usa.gov\n",
      "https://github.com/18F/analytics-reporter\n",
      "http://www.gsa.gov/\n",
      "https://www.digitalgov.gov/services/dap/\n",
      "https://cloud.gov/\n"
     ]
    }
   ],
   "source": [
    "for link in soup.find_all('a'):\n",
    "    print(link.get('href'))"
   ]
  },
  {
   "cell_type": "code",
   "execution_count": 17,
   "metadata": {
    "ExecuteTime": {
     "end_time": "2020-05-27T01:56:00.074242Z",
     "start_time": "2020-05-27T01:56:00.070609Z"
    }
   },
   "outputs": [
    {
     "name": "stdout",
     "output_type": "stream",
     "text": [
      "\n",
      "\n",
      "\n",
      "\n",
      "\n",
      "\n",
      "\n",
      "\n",
      "\n",
      "\n",
      "\n",
      "\n",
      "\n",
      "\n",
      "\n",
      "analytics.usa.gov | The US government's web traffic.\n",
      "\n",
      "\n",
      "\n",
      "\n",
      "\n",
      "\n",
      "\n",
      "\n",
      "\n",
      "\n",
      "\n",
      "\n",
      "\n",
      "\n",
      "\n",
      "\n",
      "\n",
      "\n",
      "\n",
      "\n",
      "\n",
      "\n",
      "analytics.usa.gov\n",
      "              \n",
      "\n",
      "\n",
      "About this site\n",
      "Data | API\n",
      "\n",
      "\n",
      "\n",
      "Select an agency\n",
      "\n",
      "All Participating Websites\n",
      "Agency for International Development\n",
      "Department of Agriculture\n",
      "Department of Commerce\n",
      "Department of Defense\n",
      "Department of Education\n",
      "Department of Energy\n",
      "Department of Health and Human Services\n",
      "Department of Homeland Security\n",
      "Department of Housing and Urban Development\n",
      "Department of Justice\n",
      "Department of Labor\n",
      "Department of State\n",
      "Department of Transportation\n",
      "Department of Veterans Affairs\n",
      "Department of the Interior\n",
      "Department of the Treasury\n",
      "Environmental Protection Agency\n",
      "Executive Office of the President\n",
      "General Services Administration\n",
      "National Aeronautics and Space Administration\n",
      "National Archives and Records Administration\n",
      "National Science Foundation\n",
      "Nuclear Regulatory Commission\n",
      "Office of Personnel Management\n",
      "Postal Service\n",
      "Small Business Administration\n",
      "Social Security Administration\n",
      "\n",
      "\n",
      "\n",
      "\n",
      "\n",
      "\n",
      "\n",
      "\n",
      "\n",
      "...\n",
      "people on government websites now\n",
      "\n",
      "\n",
      "Visits Today\n",
      "Eastern Time\n",
      "\n",
      "\n",
      "\n",
      "\n",
      "\n",
      "\n",
      "Visits in the Past 90 Days\n",
      "\n",
      "\n",
      "          There were ... visits over the past 90 days.\n",
      "        \n",
      "\n",
      "Devices\n",
      "\n",
      "\n",
      "\n",
      "\n",
      "\n",
      "            Based on rough network segmentation data, we estimate that less than 5% of all traffic across all agencies comes from US federal government networks.\n",
      "          \n",
      "\n",
      "            Much more detailed data is available in downloadable CSV and JSON. This includes data on combined browser and OS usage.\n",
      "          \n",
      "\n",
      "\n",
      "Browsers\n",
      "\n",
      "\n",
      "\n",
      "\n",
      "\n",
      "Internet Explorer\n",
      "\n",
      "\n",
      "\n",
      "\n",
      "\n",
      "Operating Systems\n",
      "\n",
      "\n",
      "\n",
      "\n",
      "\n",
      "Windows\n",
      "\n",
      "\n",
      "\n",
      "\n",
      "\n",
      "\n",
      "\n",
      "Visitor Locations Right Now\n",
      "\n",
      "\n",
      "Cities\n",
      "\n",
      "\n",
      "\n",
      "\n",
      "\n",
      "\n",
      "Countries\n",
      "\n",
      "\n",
      "\n",
      "\n",
      "\n",
      "International & Territories\n",
      "\n",
      "\n",
      "\n",
      "\n",
      "\n",
      "\n",
      "\n",
      "\n",
      "Top Pages\n",
      "\n",
      "Now\n",
      "7 Days\n",
      "30 Days\n",
      "\n",
      "\n",
      "\n",
      "              People on a single, specific page now. We only count pages with at least 10 people on the page.\n",
      "              Download the full dataset.\n",
      "\n",
      "\n",
      "\n",
      "\n",
      "\n",
      "Visits over the last week to domains, including traffic to all pages within that domain.\n",
      "\n",
      "\n",
      "\n",
      "\n",
      "\n",
      "              Visits over the last month to domains, including traffic to all pages within that domain. We only count pages with at least 1,000 visits in the last month.\n",
      "              Download the full dataset.\n",
      "\n",
      "\n",
      "\n",
      "\n",
      "\n",
      "\n",
      "Top Downloads\n",
      "Total file downloads yesterday on government domains.\n",
      "\n",
      "\n",
      "\n",
      "\n",
      "\n",
      "\n",
      "\n",
      "\n",
      "About this Site\n",
      "\n",
      "            This data provides a window into how people are interacting with the government online.\n",
      "             The data comes from a unified Google Analytics account for U.S. federal government agencies known as the Digital Analytics Program.\n",
      "              This program helps government agencies understand how people find, access, and use government services online. The program does not track individuals,\n",
      "               and anonymizes the IP addresses of visitors.\n",
      "          \n",
      "\n",
      "            Not every government website is represented in this data. \n",
      "            Currently, the Digital Analytics Program collects web traffic from around 400 executive branch government domains,\n",
      "             across about 5,700 total websites,\n",
      "              including every cabinet department.\n",
      "               We continue to pursue and add more sites frequently; to add your site, email the Digital Analytics Program.\n",
      "          \n",
      "\n",
      "\n",
      "Download the data\n",
      "You can download the data here. Available in JSON and CSV format.\n",
      " Additionally, you can access data via our  API project (currently in Beta).\n",
      "A note on sampling\n",
      "Due to varying Google Analytics API sampling thresholds and the sheer volume of data in this project, some non-realtime reports may be subject to sampling. \n",
      "             The data are intended to represent trends and numbers may not be precise.\n",
      "\n",
      "\n",
      "\n",
      "\n",
      "\n",
      "\n",
      "Have a question or problem? \n",
      "              \n",
      "              Get in touch.\n",
      "              \n",
      "\n",
      "\n",
      "                  Suggest a feature or report an issue\n",
      "            \n",
      "\n",
      "\n",
      "\n",
      "\n",
      "              View our code on GitHub\n",
      "\n",
      "\n",
      "              View our code for the data on GitHub\n",
      "\n",
      "\n",
      "\n",
      "\n",
      "\n",
      "\n",
      "\n",
      "\n",
      "\n",
      "\n",
      "Analytics.usa.gov is a project of GSA’s Digital Analytics Program.\n",
      "This website is hosted on cloud.gov.\n",
      "\n",
      "\n",
      "\n",
      "\n",
      "\n",
      "\n",
      "\n",
      "\n",
      "\n",
      "\n",
      "\n",
      "\n"
     ]
    }
   ],
   "source": [
    "print(soup.get_text())"
   ]
  },
  {
   "cell_type": "code",
   "execution_count": 18,
   "metadata": {
    "ExecuteTime": {
     "end_time": "2020-05-27T01:56:39.631529Z",
     "start_time": "2020-05-27T01:56:39.620767Z"
    }
   },
   "outputs": [
    {
     "name": "stdout",
     "output_type": "stream",
     "text": [
      "<!DOCTYPE html>\n",
      "<html lang=\"en\">\n",
      " <!-- Initalize title and data source variables -->\n",
      " <head>\n",
      "  <!--\n",
      "\n",
      "    Hi! Welcome to our source code.\n",
      "\n",
      "    This dashboard uses data from the Digital Analytics Program, a US\n",
      "    government team inside the General Services Administration.\n",
      "\n",
      "\n",
      "    For a detailed tech breakdown of how 18F and friends built this site:\n",
      "\n",
      "    https://18f.gsa.gov/2015/03/19/how-we-built-analytics-usa-gov/\n",
      "\n",
      "\n",
      "    This is a fully open source project, and your contributions are welcome.\n",
      "\n",
      "    Frontend static site: https://github.com/18F/analytics.usa.gov\n",
      "    Backend data reporting: https://github.com/18F/analytics-reporter\n",
      "\n",
      "    -->\n",
      "  <meta charset=\"utf-8\"/>\n",
      "  <meta content=\"IE=Edge\" http-equiv=\"X-UA-Compatible\"/>\n",
      "  <meta content=\"NjbZn6hQe7OwV-nTsa6nLmtrOUcSGPRyFjxm5zkmCcg\" name=\"google-site-verification\"/>\n",
      "  <link href=\"/css/vendor/css/uswds.v0.9.6.css\" rel=\"stylesheet\"/>\n",
      "  <link href=\"/css/public_analytics.css\" rel=\"stylesheet\"/>\n",
      "  <link href=\"/images/analytics-favicon.ico\" rel=\"ic\n"
     ]
    }
   ],
   "source": [
    "print(soup.prettify()[:1000])"
   ]
  },
  {
   "cell_type": "code",
   "execution_count": 27,
   "metadata": {
    "ExecuteTime": {
     "end_time": "2020-05-27T02:20:49.780456Z",
     "start_time": "2020-05-27T02:20:49.772245Z"
    }
   },
   "outputs": [
    {
     "name": "stdout",
     "output_type": "stream",
     "text": [
      "<a href=\"https://analytics.usa.gov/data/\">Data</a>\n",
      "<a href=\"https://open.gsa.gov/api/dap/\" target=\"_blank\">API</a>\n",
      "<a href=\"https://analytics.usa.gov/data/live/all-pages-realtime.csv\">Download the full dataset.</a>\n",
      "<a href=\"https://analytics.usa.gov/data/live/all-domains-30-days.csv\">Download the full dataset.</a>\n",
      "<a class=\"external-link\" href=\"https://www.digitalgov.gov/services/dap/\">Digital Analytics Program</a>\n",
      "<a class=\"external-link\" href=\"https://www.digitalgov.gov/services/dap/common-questions-about-dap-faq/#part-4\">does not track individuals</a>\n",
      "<a class=\"external-link\" href=\"https://support.google.com/analytics/answer/2763052?hl=en\">anonymizes the IP addresses</a>\n",
      "<a class=\"external-link\" href=\"https://analytics.usa.gov/data/live/second-level-domains.csv\">400 executive branch government domains</a>\n",
      "<a class=\"external-link\" href=\"https://analytics.usa.gov/data/live/sites.csv\">about 5,700 total websites</a>\n",
      "<a href=\"https://analytics.usa.gov/data/\">download the data here.</a>\n",
      "<a href=\"https://open.gsa.gov/api/dap/\" target=\"_blank\"> API project</a>\n",
      "<a class=\"usa-button usa-button-secondary-inverse\" href=\"https://github.com/GSA/analytics.usa.gov/issues\">\n",
      "<img alt=\"Github Icon\" class=\"github-icon\" src=\"/images/github-logo-white.svg\"/>\n",
      "                  Suggest a feature or report an issue\n",
      "            </a>\n",
      "<a href=\"https://github.com/GSA/analytics.usa.gov\">\n",
      "<img alt=\"Github Icon\" class=\"github-icon\" src=\"/images/github-logo.svg\"/>\n",
      "              View our code on GitHub</a>\n",
      "<a href=\"https://github.com/18F/analytics-reporter\">\n",
      "<img alt=\"Github Icon\" class=\"github-icon\" src=\"/images/github-logo.svg\"/>\n",
      "              View our code for the data on GitHub</a>\n",
      "<a href=\"http://www.gsa.gov/\">\n",
      "<img alt=\"GSA\" src=\"/images/gsa-logo.svg\"/>\n",
      "</a>\n",
      "<a href=\"https://www.digitalgov.gov/services/dap/\">Digital Analytics Program</a>\n",
      "<a href=\"https://cloud.gov/\">cloud.gov</a>\n"
     ]
    }
   ],
   "source": [
    "for link in soup.find_all('a', \n",
    "                          attrs = {'href':\n",
    "                          re.compile(\"^http\")}):\n",
    "    print(link)\n",
    "# type(link)"
   ]
  },
  {
   "cell_type": "code",
   "execution_count": 29,
   "metadata": {
    "ExecuteTime": {
     "end_time": "2020-05-27T02:21:20.004972Z",
     "start_time": "2020-05-27T02:21:19.997489Z"
    }
   },
   "outputs": [
    {
     "name": "stdout",
     "output_type": "stream",
     "text": [
      "<section data-block=\"realtime\" data-refresh=\"15\" data-source=\"https://analytics.usa.gov/data/live/realtime.json\" id=\"realtime\">\n",
      "<h2 class=\"data\" id=\"current_visitors\">...</h2>\n",
      "<div class=\"chart_subtitle\">people on government websites now</div>\n",
      "</section>\n"
     ]
    },
    {
     "data": {
      "text/plain": [
       "bs4.element.Tag"
      ]
     },
     "execution_count": 29,
     "metadata": {},
     "output_type": "execute_result"
    }
   ],
   "source": [
    "# for link in soup.findAll('a', \n",
    "#                           attrs = {'href': \n",
    "#                           re.compile(\"^http\")}):\n",
    "#     print(link)\n",
    "\n",
    "for usa in soup.find_all('section', \n",
    "                          attrs = {'id':\n",
    "                          re.compile(\"^realtime\")}):\n",
    "    print(usa)\n",
    "type(usa)"
   ]
  },
  {
   "cell_type": "code",
   "execution_count": 31,
   "metadata": {
    "ExecuteTime": {
     "end_time": "2020-05-27T02:24:03.831944Z",
     "start_time": "2020-05-27T02:24:03.823171Z"
    }
   },
   "outputs": [
    {
     "name": "stdout",
     "output_type": "stream",
     "text": [
      "<a href=\"https://analytics.usa.gov/data/\">Data</a>\n",
      "<a href=\"https://open.gsa.gov/api/dap/\" target=\"_blank\">API</a>\n",
      "<a href=\"https://analytics.usa.gov/data/live/all-pages-realtime.csv\">Download the full dataset.</a>\n",
      "<a href=\"https://analytics.usa.gov/data/live/all-domains-30-days.csv\">Download the full dataset.</a>\n",
      "<a class=\"external-link\" href=\"https://www.digitalgov.gov/services/dap/\">Digital Analytics Program</a>\n",
      "<a class=\"external-link\" href=\"https://www.digitalgov.gov/services/dap/common-questions-about-dap-faq/#part-4\">does not track individuals</a>\n",
      "<a class=\"external-link\" href=\"https://support.google.com/analytics/answer/2763052?hl=en\">anonymizes the IP addresses</a>\n",
      "<a class=\"external-link\" href=\"https://analytics.usa.gov/data/live/second-level-domains.csv\">400 executive branch government domains</a>\n",
      "<a class=\"external-link\" href=\"https://analytics.usa.gov/data/live/sites.csv\">about 5,700 total websites</a>\n",
      "<a href=\"https://analytics.usa.gov/data/\">download the data here.</a>\n",
      "<a href=\"https://open.gsa.gov/api/dap/\" target=\"_blank\"> API project</a>\n",
      "<a class=\"usa-button usa-button-secondary-inverse\" href=\"https://github.com/GSA/analytics.usa.gov/issues\">\n",
      "<img alt=\"Github Icon\" class=\"github-icon\" src=\"/images/github-logo-white.svg\"/>\n",
      "                  Suggest a feature or report an issue\n",
      "            </a>\n",
      "<a href=\"https://github.com/GSA/analytics.usa.gov\">\n",
      "<img alt=\"Github Icon\" class=\"github-icon\" src=\"/images/github-logo.svg\"/>\n",
      "              View our code on GitHub</a>\n",
      "<a href=\"https://github.com/18F/analytics-reporter\">\n",
      "<img alt=\"Github Icon\" class=\"github-icon\" src=\"/images/github-logo.svg\"/>\n",
      "              View our code for the data on GitHub</a>\n",
      "<a href=\"http://www.gsa.gov/\">\n",
      "<img alt=\"GSA\" src=\"/images/gsa-logo.svg\"/>\n",
      "</a>\n",
      "<a href=\"https://www.digitalgov.gov/services/dap/\">Digital Analytics Program</a>\n",
      "<a href=\"https://cloud.gov/\">cloud.gov</a>\n"
     ]
    }
   ],
   "source": [
    "file = open(\"parsed_data.txt\", \"w\")\n",
    "for link in soup.find_all('a', \n",
    "                          attrs = {'href':\n",
    "                          re.compile(\"^http\")}):\n",
    "    soup_link = str(link)\n",
    "    print(soup_link)\n",
    "    file.write(soup_link)\n",
    "file.flush()\n",
    "file.close()"
   ]
  },
  {
   "cell_type": "code",
   "execution_count": 32,
   "metadata": {
    "ExecuteTime": {
     "end_time": "2020-05-27T02:24:42.701592Z",
     "start_time": "2020-05-27T02:24:42.696447Z"
    }
   },
   "outputs": [
    {
     "data": {
      "text/plain": [
       "'/Users/fyenne/python_online/python_course'"
      ]
     },
     "execution_count": 32,
     "metadata": {},
     "output_type": "execute_result"
    }
   ],
   "source": [
    "%pwd # getwd()"
   ]
  },
  {
   "cell_type": "code",
   "execution_count": null,
   "metadata": {},
   "outputs": [],
   "source": []
  }
 ],
 "metadata": {
  "kernelspec": {
   "display_name": "Python 3",
   "language": "python",
   "name": "python3"
  },
  "language_info": {
   "codemirror_mode": {
    "name": "ipython",
    "version": 3
   },
   "file_extension": ".py",
   "mimetype": "text/x-python",
   "name": "python",
   "nbconvert_exporter": "python",
   "pygments_lexer": "ipython3",
   "version": "3.7.7"
  },
  "toc": {
   "base_numbering": 1,
   "nav_menu": {},
   "number_sections": true,
   "sideBar": true,
   "skip_h1_title": false,
   "title_cell": "Table of Contents",
   "title_sidebar": "Contents",
   "toc_cell": false,
   "toc_position": {},
   "toc_section_display": true,
   "toc_window_display": false
  },
  "varInspector": {
   "cols": {
    "lenName": 16,
    "lenType": 16,
    "lenVar": 40
   },
   "kernels_config": {
    "python": {
     "delete_cmd_postfix": "",
     "delete_cmd_prefix": "del ",
     "library": "var_list.py",
     "varRefreshCmd": "print(var_dic_list())"
    },
    "r": {
     "delete_cmd_postfix": ") ",
     "delete_cmd_prefix": "rm(",
     "library": "var_list.r",
     "varRefreshCmd": "cat(var_dic_list()) "
    }
   },
   "types_to_exclude": [
    "module",
    "function",
    "builtin_function_or_method",
    "instance",
    "_Feature"
   ],
   "window_display": false
  }
 },
 "nbformat": 4,
 "nbformat_minor": 4
}
